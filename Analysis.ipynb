{
 "cells": [
  {
   "attachments": {},
   "cell_type": "markdown",
   "metadata": {},
   "source": [
    "# Predicting Bank Churn\n",
    "\n",
    "The target variable for this Machine Learning analysis is whether or not a customer customer churned (exited)."
   ]
  },
  {
   "attachments": {},
   "cell_type": "markdown",
   "metadata": {},
   "source": [
    "## Import Packages and Data\n",
    "\n",
    "In this section, the Python packages and dataframe are read into Python."
   ]
  },
  {
   "cell_type": "code",
   "execution_count": 331,
   "metadata": {},
   "outputs": [],
   "source": [
    "# Import packages\n",
    "import numpy as np\n",
    "import pandas as pd\n",
    "import matplotlib.pyplot as plt\n",
    "from sklearn.model_selection import train_test_split\n",
    "from sklearn.preprocessing import OrdinalEncoder\n",
    "from sklearn.preprocessing import StandardScaler\n",
    "from sklearn.utils import shuffle\n",
    "from sklearn.tree import DecisionTreeClassifier\n",
    "from sklearn.ensemble import RandomForestClassifier\n",
    "from sklearn.linear_model import LogisticRegression\n",
    "from sklearn.metrics import f1_score\n",
    "from sklearn.metrics import roc_auc_score\n",
    "from sklearn.metrics import roc_curve"
   ]
  },
  {
   "cell_type": "code",
   "execution_count": 234,
   "metadata": {},
   "outputs": [],
   "source": [
    "# Import data\n",
    "try:\n",
    "    churn = pd.read_csv('Users/kellyshreeve/Desktop/Data-Sets/Churn.csv')\n",
    "except:\n",
    "    churn = pd.read_csv('/datasets/Churn.csv')"
   ]
  },
  {
   "cell_type": "code",
   "execution_count": 235,
   "metadata": {},
   "outputs": [
    {
     "name": "stdout",
     "output_type": "stream",
     "text": [
      "<class 'pandas.core.frame.DataFrame'>\n",
      "RangeIndex: 10000 entries, 0 to 9999\n",
      "Data columns (total 14 columns):\n",
      " #   Column           Non-Null Count  Dtype  \n",
      "---  ------           --------------  -----  \n",
      " 0   RowNumber        10000 non-null  int64  \n",
      " 1   CustomerId       10000 non-null  int64  \n",
      " 2   Surname          10000 non-null  object \n",
      " 3   CreditScore      10000 non-null  int64  \n",
      " 4   Geography        10000 non-null  object \n",
      " 5   Gender           10000 non-null  object \n",
      " 6   Age              10000 non-null  int64  \n",
      " 7   Tenure           9091 non-null   float64\n",
      " 8   Balance          10000 non-null  float64\n",
      " 9   NumOfProducts    10000 non-null  int64  \n",
      " 10  HasCrCard        10000 non-null  int64  \n",
      " 11  IsActiveMember   10000 non-null  int64  \n",
      " 12  EstimatedSalary  10000 non-null  float64\n",
      " 13  Exited           10000 non-null  int64  \n",
      "dtypes: float64(3), int64(8), object(3)\n",
      "memory usage: 1.1+ MB\n",
      "None\n"
     ]
    }
   ],
   "source": [
    "# Print info\n",
    "print(churn.info())"
   ]
  },
  {
   "cell_type": "code",
   "execution_count": 236,
   "metadata": {},
   "outputs": [
    {
     "data": {
      "text/html": [
       "<div>\n",
       "<style scoped>\n",
       "    .dataframe tbody tr th:only-of-type {\n",
       "        vertical-align: middle;\n",
       "    }\n",
       "\n",
       "    .dataframe tbody tr th {\n",
       "        vertical-align: top;\n",
       "    }\n",
       "\n",
       "    .dataframe thead th {\n",
       "        text-align: right;\n",
       "    }\n",
       "</style>\n",
       "<table border=\"1\" class=\"dataframe\">\n",
       "  <thead>\n",
       "    <tr style=\"text-align: right;\">\n",
       "      <th></th>\n",
       "      <th>RowNumber</th>\n",
       "      <th>CustomerId</th>\n",
       "      <th>Surname</th>\n",
       "      <th>CreditScore</th>\n",
       "      <th>Geography</th>\n",
       "      <th>Gender</th>\n",
       "      <th>Age</th>\n",
       "      <th>Tenure</th>\n",
       "      <th>Balance</th>\n",
       "      <th>NumOfProducts</th>\n",
       "      <th>HasCrCard</th>\n",
       "      <th>IsActiveMember</th>\n",
       "      <th>EstimatedSalary</th>\n",
       "      <th>Exited</th>\n",
       "    </tr>\n",
       "  </thead>\n",
       "  <tbody>\n",
       "    <tr>\n",
       "      <th>0</th>\n",
       "      <td>1</td>\n",
       "      <td>15634602</td>\n",
       "      <td>Hargrave</td>\n",
       "      <td>619</td>\n",
       "      <td>France</td>\n",
       "      <td>Female</td>\n",
       "      <td>42</td>\n",
       "      <td>2.0</td>\n",
       "      <td>0.00</td>\n",
       "      <td>1</td>\n",
       "      <td>1</td>\n",
       "      <td>1</td>\n",
       "      <td>101348.88</td>\n",
       "      <td>1</td>\n",
       "    </tr>\n",
       "    <tr>\n",
       "      <th>1</th>\n",
       "      <td>2</td>\n",
       "      <td>15647311</td>\n",
       "      <td>Hill</td>\n",
       "      <td>608</td>\n",
       "      <td>Spain</td>\n",
       "      <td>Female</td>\n",
       "      <td>41</td>\n",
       "      <td>1.0</td>\n",
       "      <td>83807.86</td>\n",
       "      <td>1</td>\n",
       "      <td>0</td>\n",
       "      <td>1</td>\n",
       "      <td>112542.58</td>\n",
       "      <td>0</td>\n",
       "    </tr>\n",
       "    <tr>\n",
       "      <th>2</th>\n",
       "      <td>3</td>\n",
       "      <td>15619304</td>\n",
       "      <td>Onio</td>\n",
       "      <td>502</td>\n",
       "      <td>France</td>\n",
       "      <td>Female</td>\n",
       "      <td>42</td>\n",
       "      <td>8.0</td>\n",
       "      <td>159660.80</td>\n",
       "      <td>3</td>\n",
       "      <td>1</td>\n",
       "      <td>0</td>\n",
       "      <td>113931.57</td>\n",
       "      <td>1</td>\n",
       "    </tr>\n",
       "    <tr>\n",
       "      <th>3</th>\n",
       "      <td>4</td>\n",
       "      <td>15701354</td>\n",
       "      <td>Boni</td>\n",
       "      <td>699</td>\n",
       "      <td>France</td>\n",
       "      <td>Female</td>\n",
       "      <td>39</td>\n",
       "      <td>1.0</td>\n",
       "      <td>0.00</td>\n",
       "      <td>2</td>\n",
       "      <td>0</td>\n",
       "      <td>0</td>\n",
       "      <td>93826.63</td>\n",
       "      <td>0</td>\n",
       "    </tr>\n",
       "    <tr>\n",
       "      <th>4</th>\n",
       "      <td>5</td>\n",
       "      <td>15737888</td>\n",
       "      <td>Mitchell</td>\n",
       "      <td>850</td>\n",
       "      <td>Spain</td>\n",
       "      <td>Female</td>\n",
       "      <td>43</td>\n",
       "      <td>2.0</td>\n",
       "      <td>125510.82</td>\n",
       "      <td>1</td>\n",
       "      <td>1</td>\n",
       "      <td>1</td>\n",
       "      <td>79084.10</td>\n",
       "      <td>0</td>\n",
       "    </tr>\n",
       "    <tr>\n",
       "      <th>5</th>\n",
       "      <td>6</td>\n",
       "      <td>15574012</td>\n",
       "      <td>Chu</td>\n",
       "      <td>645</td>\n",
       "      <td>Spain</td>\n",
       "      <td>Male</td>\n",
       "      <td>44</td>\n",
       "      <td>8.0</td>\n",
       "      <td>113755.78</td>\n",
       "      <td>2</td>\n",
       "      <td>1</td>\n",
       "      <td>0</td>\n",
       "      <td>149756.71</td>\n",
       "      <td>1</td>\n",
       "    </tr>\n",
       "    <tr>\n",
       "      <th>6</th>\n",
       "      <td>7</td>\n",
       "      <td>15592531</td>\n",
       "      <td>Bartlett</td>\n",
       "      <td>822</td>\n",
       "      <td>France</td>\n",
       "      <td>Male</td>\n",
       "      <td>50</td>\n",
       "      <td>7.0</td>\n",
       "      <td>0.00</td>\n",
       "      <td>2</td>\n",
       "      <td>1</td>\n",
       "      <td>1</td>\n",
       "      <td>10062.80</td>\n",
       "      <td>0</td>\n",
       "    </tr>\n",
       "    <tr>\n",
       "      <th>7</th>\n",
       "      <td>8</td>\n",
       "      <td>15656148</td>\n",
       "      <td>Obinna</td>\n",
       "      <td>376</td>\n",
       "      <td>Germany</td>\n",
       "      <td>Female</td>\n",
       "      <td>29</td>\n",
       "      <td>4.0</td>\n",
       "      <td>115046.74</td>\n",
       "      <td>4</td>\n",
       "      <td>1</td>\n",
       "      <td>0</td>\n",
       "      <td>119346.88</td>\n",
       "      <td>1</td>\n",
       "    </tr>\n",
       "    <tr>\n",
       "      <th>8</th>\n",
       "      <td>9</td>\n",
       "      <td>15792365</td>\n",
       "      <td>He</td>\n",
       "      <td>501</td>\n",
       "      <td>France</td>\n",
       "      <td>Male</td>\n",
       "      <td>44</td>\n",
       "      <td>4.0</td>\n",
       "      <td>142051.07</td>\n",
       "      <td>2</td>\n",
       "      <td>0</td>\n",
       "      <td>1</td>\n",
       "      <td>74940.50</td>\n",
       "      <td>0</td>\n",
       "    </tr>\n",
       "    <tr>\n",
       "      <th>9</th>\n",
       "      <td>10</td>\n",
       "      <td>15592389</td>\n",
       "      <td>H?</td>\n",
       "      <td>684</td>\n",
       "      <td>France</td>\n",
       "      <td>Male</td>\n",
       "      <td>27</td>\n",
       "      <td>2.0</td>\n",
       "      <td>134603.88</td>\n",
       "      <td>1</td>\n",
       "      <td>1</td>\n",
       "      <td>1</td>\n",
       "      <td>71725.73</td>\n",
       "      <td>0</td>\n",
       "    </tr>\n",
       "    <tr>\n",
       "      <th>10</th>\n",
       "      <td>11</td>\n",
       "      <td>15767821</td>\n",
       "      <td>Bearce</td>\n",
       "      <td>528</td>\n",
       "      <td>France</td>\n",
       "      <td>Male</td>\n",
       "      <td>31</td>\n",
       "      <td>6.0</td>\n",
       "      <td>102016.72</td>\n",
       "      <td>2</td>\n",
       "      <td>0</td>\n",
       "      <td>0</td>\n",
       "      <td>80181.12</td>\n",
       "      <td>0</td>\n",
       "    </tr>\n",
       "    <tr>\n",
       "      <th>11</th>\n",
       "      <td>12</td>\n",
       "      <td>15737173</td>\n",
       "      <td>Andrews</td>\n",
       "      <td>497</td>\n",
       "      <td>Spain</td>\n",
       "      <td>Male</td>\n",
       "      <td>24</td>\n",
       "      <td>3.0</td>\n",
       "      <td>0.00</td>\n",
       "      <td>2</td>\n",
       "      <td>1</td>\n",
       "      <td>0</td>\n",
       "      <td>76390.01</td>\n",
       "      <td>0</td>\n",
       "    </tr>\n",
       "    <tr>\n",
       "      <th>12</th>\n",
       "      <td>13</td>\n",
       "      <td>15632264</td>\n",
       "      <td>Kay</td>\n",
       "      <td>476</td>\n",
       "      <td>France</td>\n",
       "      <td>Female</td>\n",
       "      <td>34</td>\n",
       "      <td>10.0</td>\n",
       "      <td>0.00</td>\n",
       "      <td>2</td>\n",
       "      <td>1</td>\n",
       "      <td>0</td>\n",
       "      <td>26260.98</td>\n",
       "      <td>0</td>\n",
       "    </tr>\n",
       "    <tr>\n",
       "      <th>13</th>\n",
       "      <td>14</td>\n",
       "      <td>15691483</td>\n",
       "      <td>Chin</td>\n",
       "      <td>549</td>\n",
       "      <td>France</td>\n",
       "      <td>Female</td>\n",
       "      <td>25</td>\n",
       "      <td>5.0</td>\n",
       "      <td>0.00</td>\n",
       "      <td>2</td>\n",
       "      <td>0</td>\n",
       "      <td>0</td>\n",
       "      <td>190857.79</td>\n",
       "      <td>0</td>\n",
       "    </tr>\n",
       "    <tr>\n",
       "      <th>14</th>\n",
       "      <td>15</td>\n",
       "      <td>15600882</td>\n",
       "      <td>Scott</td>\n",
       "      <td>635</td>\n",
       "      <td>Spain</td>\n",
       "      <td>Female</td>\n",
       "      <td>35</td>\n",
       "      <td>7.0</td>\n",
       "      <td>0.00</td>\n",
       "      <td>2</td>\n",
       "      <td>1</td>\n",
       "      <td>1</td>\n",
       "      <td>65951.65</td>\n",
       "      <td>0</td>\n",
       "    </tr>\n",
       "  </tbody>\n",
       "</table>\n",
       "</div>"
      ],
      "text/plain": [
       "    RowNumber  CustomerId   Surname  CreditScore Geography  Gender  Age  \\\n",
       "0           1    15634602  Hargrave          619    France  Female   42   \n",
       "1           2    15647311      Hill          608     Spain  Female   41   \n",
       "2           3    15619304      Onio          502    France  Female   42   \n",
       "3           4    15701354      Boni          699    France  Female   39   \n",
       "4           5    15737888  Mitchell          850     Spain  Female   43   \n",
       "5           6    15574012       Chu          645     Spain    Male   44   \n",
       "6           7    15592531  Bartlett          822    France    Male   50   \n",
       "7           8    15656148    Obinna          376   Germany  Female   29   \n",
       "8           9    15792365        He          501    France    Male   44   \n",
       "9          10    15592389        H?          684    France    Male   27   \n",
       "10         11    15767821    Bearce          528    France    Male   31   \n",
       "11         12    15737173   Andrews          497     Spain    Male   24   \n",
       "12         13    15632264       Kay          476    France  Female   34   \n",
       "13         14    15691483      Chin          549    France  Female   25   \n",
       "14         15    15600882     Scott          635     Spain  Female   35   \n",
       "\n",
       "    Tenure    Balance  NumOfProducts  HasCrCard  IsActiveMember  \\\n",
       "0      2.0       0.00              1          1               1   \n",
       "1      1.0   83807.86              1          0               1   \n",
       "2      8.0  159660.80              3          1               0   \n",
       "3      1.0       0.00              2          0               0   \n",
       "4      2.0  125510.82              1          1               1   \n",
       "5      8.0  113755.78              2          1               0   \n",
       "6      7.0       0.00              2          1               1   \n",
       "7      4.0  115046.74              4          1               0   \n",
       "8      4.0  142051.07              2          0               1   \n",
       "9      2.0  134603.88              1          1               1   \n",
       "10     6.0  102016.72              2          0               0   \n",
       "11     3.0       0.00              2          1               0   \n",
       "12    10.0       0.00              2          1               0   \n",
       "13     5.0       0.00              2          0               0   \n",
       "14     7.0       0.00              2          1               1   \n",
       "\n",
       "    EstimatedSalary  Exited  \n",
       "0         101348.88       1  \n",
       "1         112542.58       0  \n",
       "2         113931.57       1  \n",
       "3          93826.63       0  \n",
       "4          79084.10       0  \n",
       "5         149756.71       1  \n",
       "6          10062.80       0  \n",
       "7         119346.88       1  \n",
       "8          74940.50       0  \n",
       "9          71725.73       0  \n",
       "10         80181.12       0  \n",
       "11         76390.01       0  \n",
       "12         26260.98       0  \n",
       "13        190857.79       0  \n",
       "14         65951.65       0  "
      ]
     },
     "metadata": {},
     "output_type": "display_data"
    }
   ],
   "source": [
    "# Print top 15 rows\n",
    "display(churn.head(15))"
   ]
  },
  {
   "attachments": {},
   "cell_type": "markdown",
   "metadata": {},
   "source": [
    "## Prepare Data\n",
    "\n",
    "The data are cleaned for analysis by addressing variable names, data types, missing values, and duplicates. Categorical features are prepared in two different ways: 1) Label encoded for Decision Tree/Random Forest models, 2) One Hot Encoded for Logistic Regression models."
   ]
  },
  {
   "attachments": {},
   "cell_type": "markdown",
   "metadata": {},
   "source": [
    "### Convert Variable Names to Snake Case"
   ]
  },
  {
   "cell_type": "code",
   "execution_count": 237,
   "metadata": {},
   "outputs": [
    {
     "name": "stdout",
     "output_type": "stream",
     "text": [
      "Index(['rownumber', 'customerid', 'surname', 'creditscore', 'geography',\n",
      "       'gender', 'age', 'tenure', 'balance', 'numofproducts', 'hascrcard',\n",
      "       'isactivemember', 'estimatedsalary', 'exited'],\n",
      "      dtype='object')\n"
     ]
    }
   ],
   "source": [
    "# Convert column names to lower case\n",
    "churn.columns = churn.columns.str.lower()\n",
    "\n",
    "print(churn.columns)"
   ]
  },
  {
   "cell_type": "code",
   "execution_count": 238,
   "metadata": {},
   "outputs": [
    {
     "name": "stdout",
     "output_type": "stream",
     "text": [
      "Index(['row_number', 'customer_id', 'surname', 'credit_score', 'geography',\n",
      "       'gender', 'age', 'tenure', 'balance', 'num_of_products', 'has_cr_card',\n",
      "       'is_active_member', 'estimated_salary', 'exited'],\n",
      "      dtype='object')\n"
     ]
    },
    {
     "data": {
      "text/html": [
       "<div>\n",
       "<style scoped>\n",
       "    .dataframe tbody tr th:only-of-type {\n",
       "        vertical-align: middle;\n",
       "    }\n",
       "\n",
       "    .dataframe tbody tr th {\n",
       "        vertical-align: top;\n",
       "    }\n",
       "\n",
       "    .dataframe thead th {\n",
       "        text-align: right;\n",
       "    }\n",
       "</style>\n",
       "<table border=\"1\" class=\"dataframe\">\n",
       "  <thead>\n",
       "    <tr style=\"text-align: right;\">\n",
       "      <th></th>\n",
       "      <th>row_number</th>\n",
       "      <th>customer_id</th>\n",
       "      <th>surname</th>\n",
       "      <th>credit_score</th>\n",
       "      <th>geography</th>\n",
       "      <th>gender</th>\n",
       "      <th>age</th>\n",
       "      <th>tenure</th>\n",
       "      <th>balance</th>\n",
       "      <th>num_of_products</th>\n",
       "      <th>has_cr_card</th>\n",
       "      <th>is_active_member</th>\n",
       "      <th>estimated_salary</th>\n",
       "      <th>exited</th>\n",
       "    </tr>\n",
       "  </thead>\n",
       "  <tbody>\n",
       "    <tr>\n",
       "      <th>0</th>\n",
       "      <td>1</td>\n",
       "      <td>15634602</td>\n",
       "      <td>Hargrave</td>\n",
       "      <td>619</td>\n",
       "      <td>France</td>\n",
       "      <td>Female</td>\n",
       "      <td>42</td>\n",
       "      <td>2.0</td>\n",
       "      <td>0.00</td>\n",
       "      <td>1</td>\n",
       "      <td>1</td>\n",
       "      <td>1</td>\n",
       "      <td>101348.88</td>\n",
       "      <td>1</td>\n",
       "    </tr>\n",
       "    <tr>\n",
       "      <th>1</th>\n",
       "      <td>2</td>\n",
       "      <td>15647311</td>\n",
       "      <td>Hill</td>\n",
       "      <td>608</td>\n",
       "      <td>Spain</td>\n",
       "      <td>Female</td>\n",
       "      <td>41</td>\n",
       "      <td>1.0</td>\n",
       "      <td>83807.86</td>\n",
       "      <td>1</td>\n",
       "      <td>0</td>\n",
       "      <td>1</td>\n",
       "      <td>112542.58</td>\n",
       "      <td>0</td>\n",
       "    </tr>\n",
       "    <tr>\n",
       "      <th>2</th>\n",
       "      <td>3</td>\n",
       "      <td>15619304</td>\n",
       "      <td>Onio</td>\n",
       "      <td>502</td>\n",
       "      <td>France</td>\n",
       "      <td>Female</td>\n",
       "      <td>42</td>\n",
       "      <td>8.0</td>\n",
       "      <td>159660.80</td>\n",
       "      <td>3</td>\n",
       "      <td>1</td>\n",
       "      <td>0</td>\n",
       "      <td>113931.57</td>\n",
       "      <td>1</td>\n",
       "    </tr>\n",
       "    <tr>\n",
       "      <th>3</th>\n",
       "      <td>4</td>\n",
       "      <td>15701354</td>\n",
       "      <td>Boni</td>\n",
       "      <td>699</td>\n",
       "      <td>France</td>\n",
       "      <td>Female</td>\n",
       "      <td>39</td>\n",
       "      <td>1.0</td>\n",
       "      <td>0.00</td>\n",
       "      <td>2</td>\n",
       "      <td>0</td>\n",
       "      <td>0</td>\n",
       "      <td>93826.63</td>\n",
       "      <td>0</td>\n",
       "    </tr>\n",
       "    <tr>\n",
       "      <th>4</th>\n",
       "      <td>5</td>\n",
       "      <td>15737888</td>\n",
       "      <td>Mitchell</td>\n",
       "      <td>850</td>\n",
       "      <td>Spain</td>\n",
       "      <td>Female</td>\n",
       "      <td>43</td>\n",
       "      <td>2.0</td>\n",
       "      <td>125510.82</td>\n",
       "      <td>1</td>\n",
       "      <td>1</td>\n",
       "      <td>1</td>\n",
       "      <td>79084.10</td>\n",
       "      <td>0</td>\n",
       "    </tr>\n",
       "  </tbody>\n",
       "</table>\n",
       "</div>"
      ],
      "text/plain": [
       "   row_number  customer_id   surname  credit_score geography  gender  age  \\\n",
       "0           1     15634602  Hargrave           619    France  Female   42   \n",
       "1           2     15647311      Hill           608     Spain  Female   41   \n",
       "2           3     15619304      Onio           502    France  Female   42   \n",
       "3           4     15701354      Boni           699    France  Female   39   \n",
       "4           5     15737888  Mitchell           850     Spain  Female   43   \n",
       "\n",
       "   tenure    balance  num_of_products  has_cr_card  is_active_member  \\\n",
       "0     2.0       0.00                1            1                 1   \n",
       "1     1.0   83807.86                1            0                 1   \n",
       "2     8.0  159660.80                3            1                 0   \n",
       "3     1.0       0.00                2            0                 0   \n",
       "4     2.0  125510.82                1            1                 1   \n",
       "\n",
       "   estimated_salary  exited  \n",
       "0         101348.88       1  \n",
       "1         112542.58       0  \n",
       "2         113931.57       1  \n",
       "3          93826.63       0  \n",
       "4          79084.10       0  "
      ]
     },
     "metadata": {},
     "output_type": "display_data"
    }
   ],
   "source": [
    "# Insert underscore in multi-word column names\n",
    "churn = churn.rename(columns={'rownumber':'row_number', 'customerid':'customer_id',\n",
    "                              'creditscore':'credit_score', 'numofproducts':'num_of_products',\n",
    "                              'hascrcard':'has_cr_card', 'isactivemember':'is_active_member',\n",
    "                              'estimatedsalary':'estimated_salary'})\n",
    "\n",
    "print(churn.columns)\n",
    "display(churn.head())"
   ]
  },
  {
   "attachments": {},
   "cell_type": "markdown",
   "metadata": {},
   "source": [
    "All column names are converted to snake case."
   ]
  },
  {
   "attachments": {},
   "cell_type": "markdown",
   "metadata": {},
   "source": [
    "### Check Data Types"
   ]
  },
  {
   "cell_type": "code",
   "execution_count": 239,
   "metadata": {},
   "outputs": [
    {
     "name": "stdout",
     "output_type": "stream",
     "text": [
      "row_number            int64\n",
      "customer_id           int64\n",
      "surname              object\n",
      "credit_score          int64\n",
      "geography            object\n",
      "gender               object\n",
      "age                   int64\n",
      "tenure              float64\n",
      "balance             float64\n",
      "num_of_products       int64\n",
      "has_cr_card           int64\n",
      "is_active_member      int64\n",
      "estimated_salary    float64\n",
      "exited                int64\n",
      "dtype: object\n"
     ]
    }
   ],
   "source": [
    "# Check data types\n",
    "print(churn.dtypes)"
   ]
  },
  {
   "attachments": {},
   "cell_type": "markdown",
   "metadata": {},
   "source": [
    "All data types are correct."
   ]
  },
  {
   "attachments": {},
   "cell_type": "markdown",
   "metadata": {},
   "source": [
    "### Address Missing Values"
   ]
  },
  {
   "cell_type": "code",
   "execution_count": 240,
   "metadata": {},
   "outputs": [
    {
     "name": "stdout",
     "output_type": "stream",
     "text": [
      "Number of missing values by variable:\n",
      "\n",
      "row_number            0\n",
      "customer_id           0\n",
      "surname               0\n",
      "credit_score          0\n",
      "geography             0\n",
      "gender                0\n",
      "age                   0\n",
      "tenure              909\n",
      "balance               0\n",
      "num_of_products       0\n",
      "has_cr_card           0\n",
      "is_active_member      0\n",
      "estimated_salary      0\n",
      "exited                0\n",
      "dtype: int64\n"
     ]
    }
   ],
   "source": [
    "# Find missing values\n",
    "print('Number of missing values by variable:')\n",
    "print()\n",
    "print(churn.isna().sum())"
   ]
  },
  {
   "attachments": {},
   "cell_type": "markdown",
   "metadata": {},
   "source": [
    "Tenure is missing 909 values. All other variables have complete information."
   ]
  },
  {
   "cell_type": "code",
   "execution_count": 241,
   "metadata": {},
   "outputs": [
    {
     "name": "stdout",
     "output_type": "stream",
     "text": [
      "Percent missing in tenure: 9.09%\n"
     ]
    }
   ],
   "source": [
    "# Calculate percentage of missing values in Tenure\n",
    "missing_percent = (churn['tenure'].isna().sum()/len(churn['tenure'])) * 100\n",
    "\n",
    "print(f'Percent missing in tenure: {missing_percent:.2f}%')"
   ]
  },
  {
   "attachments": {},
   "cell_type": "markdown",
   "metadata": {},
   "source": [
    "Tenure is missing less than 10%, so imputation will be performed."
   ]
  },
  {
   "cell_type": "code",
   "execution_count": 242,
   "metadata": {},
   "outputs": [
    {
     "data": {
      "image/png": "[encoded data removed]",
      "text/plain": [
       "<Figure size 640x480 with 1 Axes>"
      ]
     },
     "metadata": {},
     "output_type": "display_data"
    }
   ],
   "source": [
    "# Check distribution of tenure with a histogram\n",
    "churn['tenure'].plot(kind='hist', bins=[0, 1, 2, 3, 4, 5, 6, 7, 8, 9, 10, 11])\n",
    "\n",
    "plt.title('Distribution of Tenure')\n",
    "plt.xlabel('Tenure (years)')\n",
    "plt.ylabel('Number of Customers')\n",
    "\n",
    "plt.show()"
   ]
  },
  {
   "attachments": {},
   "cell_type": "markdown",
   "metadata": {},
   "source": [
    "The distribtuion of Tenure is largely uniformly distributed with a drop off in number of customers with tenures of 0-1 years and 9-10 years. Because the distribution is symmetrical and the tenure lengths are discrete numbers, the best method of imputation is to use the median of tenure."
   ]
  },
  {
   "cell_type": "code",
   "execution_count": 243,
   "metadata": {},
   "outputs": [
    {
     "name": "stdout",
     "output_type": "stream",
     "text": [
      "Frequency Distribution of Tenure after imputation:\n"
     ]
    },
    {
     "data": {
      "text/html": [
       "<div>\n",
       "<style scoped>\n",
       "    .dataframe tbody tr th:only-of-type {\n",
       "        vertical-align: middle;\n",
       "    }\n",
       "\n",
       "    .dataframe tbody tr th {\n",
       "        vertical-align: top;\n",
       "    }\n",
       "\n",
       "    .dataframe thead th {\n",
       "        text-align: right;\n",
       "    }\n",
       "</style>\n",
       "<table border=\"1\" class=\"dataframe\">\n",
       "  <thead>\n",
       "    <tr style=\"text-align: right;\">\n",
       "      <th></th>\n",
       "      <th>tenure</th>\n",
       "      <th>count</th>\n",
       "    </tr>\n",
       "  </thead>\n",
       "  <tbody>\n",
       "    <tr>\n",
       "      <th>0</th>\n",
       "      <td>0.0</td>\n",
       "      <td>382</td>\n",
       "    </tr>\n",
       "    <tr>\n",
       "      <th>1</th>\n",
       "      <td>1.0</td>\n",
       "      <td>952</td>\n",
       "    </tr>\n",
       "    <tr>\n",
       "      <th>2</th>\n",
       "      <td>2.0</td>\n",
       "      <td>950</td>\n",
       "    </tr>\n",
       "    <tr>\n",
       "      <th>3</th>\n",
       "      <td>3.0</td>\n",
       "      <td>928</td>\n",
       "    </tr>\n",
       "    <tr>\n",
       "      <th>4</th>\n",
       "      <td>4.0</td>\n",
       "      <td>885</td>\n",
       "    </tr>\n",
       "    <tr>\n",
       "      <th>5</th>\n",
       "      <td>5.0</td>\n",
       "      <td>1836</td>\n",
       "    </tr>\n",
       "    <tr>\n",
       "      <th>6</th>\n",
       "      <td>6.0</td>\n",
       "      <td>881</td>\n",
       "    </tr>\n",
       "    <tr>\n",
       "      <th>7</th>\n",
       "      <td>7.0</td>\n",
       "      <td>925</td>\n",
       "    </tr>\n",
       "    <tr>\n",
       "      <th>8</th>\n",
       "      <td>8.0</td>\n",
       "      <td>933</td>\n",
       "    </tr>\n",
       "    <tr>\n",
       "      <th>9</th>\n",
       "      <td>9.0</td>\n",
       "      <td>882</td>\n",
       "    </tr>\n",
       "    <tr>\n",
       "      <th>10</th>\n",
       "      <td>10.0</td>\n",
       "      <td>446</td>\n",
       "    </tr>\n",
       "  </tbody>\n",
       "</table>\n",
       "</div>"
      ],
      "text/plain": [
       "    tenure  count\n",
       "0      0.0    382\n",
       "1      1.0    952\n",
       "2      2.0    950\n",
       "3      3.0    928\n",
       "4      4.0    885\n",
       "5      5.0   1836\n",
       "6      6.0    881\n",
       "7      7.0    925\n",
       "8      8.0    933\n",
       "9      9.0    882\n",
       "10    10.0    446"
      ]
     },
     "metadata": {},
     "output_type": "display_data"
    }
   ],
   "source": [
    "# Replace missing Tenure values with the median of Tenure\n",
    "churn['tenure'] = churn['tenure'].fillna(churn['tenure'].median())\n",
    "\n",
    "# Frequency distribution of tenures after imputation\n",
    "print('Frequency Distribution of Tenure after imputation:')\n",
    "display(churn['tenure'].value_counts()\n",
    "        .reset_index()\n",
    "        .rename(columns={'tenure':'count', 'index':'tenure'})\n",
    "        .sort_values(by='tenure')\n",
    "        .reset_index(drop=True))"
   ]
  },
  {
   "cell_type": "code",
   "execution_count": 244,
   "metadata": {},
   "outputs": [
    {
     "name": "stdout",
     "output_type": "stream",
     "text": [
      "Missing values after imputation:\n"
     ]
    },
    {
     "data": {
      "text/plain": [
       "row_number          0\n",
       "customer_id         0\n",
       "surname             0\n",
       "credit_score        0\n",
       "geography           0\n",
       "gender              0\n",
       "age                 0\n",
       "tenure              0\n",
       "balance             0\n",
       "num_of_products     0\n",
       "has_cr_card         0\n",
       "is_active_member    0\n",
       "estimated_salary    0\n",
       "exited              0\n",
       "dtype: int64"
      ]
     },
     "metadata": {},
     "output_type": "display_data"
    }
   ],
   "source": [
    "# Re-run missing value counts\n",
    "print('Missing values after imputation:')\n",
    "\n",
    "display(churn.isna().sum())"
   ]
  },
  {
   "attachments": {},
   "cell_type": "markdown",
   "metadata": {},
   "source": [
    "After imputation, all variables now have complete information."
   ]
  },
  {
   "attachments": {},
   "cell_type": "markdown",
   "metadata": {},
   "source": [
    "### Check for Duplicates"
   ]
  },
  {
   "cell_type": "code",
   "execution_count": 245,
   "metadata": {},
   "outputs": [
    {
     "name": "stdout",
     "output_type": "stream",
     "text": [
      "Number of fully duplicated rows: 0\n"
     ]
    }
   ],
   "source": [
    "# Check for fully duplicated rows\n",
    "full_duplicates = churn.duplicated().sum()\n",
    "\n",
    "print(f'Number of fully duplicated rows: {full_duplicates}')"
   ]
  },
  {
   "attachments": {},
   "cell_type": "markdown",
   "metadata": {},
   "source": [
    "There are no fully duplicated rows."
   ]
  },
  {
   "cell_type": "code",
   "execution_count": 246,
   "metadata": {},
   "outputs": [
    {
     "name": "stdout",
     "output_type": "stream",
     "text": [
      "['France' 'Spain' 'Germany']\n"
     ]
    }
   ],
   "source": [
    "# Check for implicit duplicates in geography\n",
    "print(churn['geography'].unique())"
   ]
  },
  {
   "attachments": {},
   "cell_type": "markdown",
   "metadata": {},
   "source": [
    "There are no implicit duplicates in geography."
   ]
  },
  {
   "cell_type": "code",
   "execution_count": 247,
   "metadata": {},
   "outputs": [
    {
     "name": "stdout",
     "output_type": "stream",
     "text": [
      "['Female' 'Male']\n"
     ]
    }
   ],
   "source": [
    "# Check for implicit duplicates in gender\n",
    "print(churn['gender'].unique())"
   ]
  },
  {
   "attachments": {},
   "cell_type": "markdown",
   "metadata": {},
   "source": [
    "There are no implicit duplicates in gender. "
   ]
  },
  {
   "attachments": {},
   "cell_type": "markdown",
   "metadata": {},
   "source": [
    "### Prepare Categorical Features"
   ]
  },
  {
   "cell_type": "code",
   "execution_count": 317,
   "metadata": {},
   "outputs": [
    {
     "data": {
      "text/html": [
       "<div>\n",
       "<style scoped>\n",
       "    .dataframe tbody tr th:only-of-type {\n",
       "        vertical-align: middle;\n",
       "    }\n",
       "\n",
       "    .dataframe tbody tr th {\n",
       "        vertical-align: top;\n",
       "    }\n",
       "\n",
       "    .dataframe thead th {\n",
       "        text-align: right;\n",
       "    }\n",
       "</style>\n",
       "<table border=\"1\" class=\"dataframe\">\n",
       "  <thead>\n",
       "    <tr style=\"text-align: right;\">\n",
       "      <th></th>\n",
       "      <th>row_number</th>\n",
       "      <th>customer_id</th>\n",
       "      <th>surname</th>\n",
       "      <th>credit_score</th>\n",
       "      <th>geography</th>\n",
       "      <th>gender</th>\n",
       "      <th>age</th>\n",
       "      <th>tenure</th>\n",
       "      <th>balance</th>\n",
       "      <th>num_of_products</th>\n",
       "      <th>has_cr_card</th>\n",
       "      <th>is_active_member</th>\n",
       "      <th>estimated_salary</th>\n",
       "      <th>exited</th>\n",
       "    </tr>\n",
       "  </thead>\n",
       "  <tbody>\n",
       "    <tr>\n",
       "      <th>0</th>\n",
       "      <td>1</td>\n",
       "      <td>15634602</td>\n",
       "      <td>Hargrave</td>\n",
       "      <td>619</td>\n",
       "      <td>0.0</td>\n",
       "      <td>0.0</td>\n",
       "      <td>42</td>\n",
       "      <td>2.0</td>\n",
       "      <td>0.00</td>\n",
       "      <td>1</td>\n",
       "      <td>1</td>\n",
       "      <td>1</td>\n",
       "      <td>101348.88</td>\n",
       "      <td>1</td>\n",
       "    </tr>\n",
       "    <tr>\n",
       "      <th>1</th>\n",
       "      <td>2</td>\n",
       "      <td>15647311</td>\n",
       "      <td>Hill</td>\n",
       "      <td>608</td>\n",
       "      <td>2.0</td>\n",
       "      <td>0.0</td>\n",
       "      <td>41</td>\n",
       "      <td>1.0</td>\n",
       "      <td>83807.86</td>\n",
       "      <td>1</td>\n",
       "      <td>0</td>\n",
       "      <td>1</td>\n",
       "      <td>112542.58</td>\n",
       "      <td>0</td>\n",
       "    </tr>\n",
       "    <tr>\n",
       "      <th>2</th>\n",
       "      <td>3</td>\n",
       "      <td>15619304</td>\n",
       "      <td>Onio</td>\n",
       "      <td>502</td>\n",
       "      <td>0.0</td>\n",
       "      <td>0.0</td>\n",
       "      <td>42</td>\n",
       "      <td>8.0</td>\n",
       "      <td>159660.80</td>\n",
       "      <td>3</td>\n",
       "      <td>1</td>\n",
       "      <td>0</td>\n",
       "      <td>113931.57</td>\n",
       "      <td>1</td>\n",
       "    </tr>\n",
       "    <tr>\n",
       "      <th>3</th>\n",
       "      <td>4</td>\n",
       "      <td>15701354</td>\n",
       "      <td>Boni</td>\n",
       "      <td>699</td>\n",
       "      <td>0.0</td>\n",
       "      <td>0.0</td>\n",
       "      <td>39</td>\n",
       "      <td>1.0</td>\n",
       "      <td>0.00</td>\n",
       "      <td>2</td>\n",
       "      <td>0</td>\n",
       "      <td>0</td>\n",
       "      <td>93826.63</td>\n",
       "      <td>0</td>\n",
       "    </tr>\n",
       "    <tr>\n",
       "      <th>4</th>\n",
       "      <td>5</td>\n",
       "      <td>15737888</td>\n",
       "      <td>Mitchell</td>\n",
       "      <td>850</td>\n",
       "      <td>2.0</td>\n",
       "      <td>0.0</td>\n",
       "      <td>43</td>\n",
       "      <td>2.0</td>\n",
       "      <td>125510.82</td>\n",
       "      <td>1</td>\n",
       "      <td>1</td>\n",
       "      <td>1</td>\n",
       "      <td>79084.10</td>\n",
       "      <td>0</td>\n",
       "    </tr>\n",
       "  </tbody>\n",
       "</table>\n",
       "</div>"
      ],
      "text/plain": [
       "   row_number  customer_id   surname  credit_score  geography  gender  age  \\\n",
       "0           1     15634602  Hargrave           619        0.0     0.0   42   \n",
       "1           2     15647311      Hill           608        2.0     0.0   41   \n",
       "2           3     15619304      Onio           502        0.0     0.0   42   \n",
       "3           4     15701354      Boni           699        0.0     0.0   39   \n",
       "4           5     15737888  Mitchell           850        2.0     0.0   43   \n",
       "\n",
       "   tenure    balance  num_of_products  has_cr_card  is_active_member  \\\n",
       "0     2.0       0.00                1            1                 1   \n",
       "1     1.0   83807.86                1            0                 1   \n",
       "2     8.0  159660.80                3            1                 0   \n",
       "3     1.0       0.00                2            0                 0   \n",
       "4     2.0  125510.82                1            1                 1   \n",
       "\n",
       "   estimated_salary  exited  \n",
       "0         101348.88       1  \n",
       "1         112542.58       0  \n",
       "2         113931.57       1  \n",
       "3          93826.63       0  \n",
       "4          79084.10       0  "
      ]
     },
     "metadata": {},
     "output_type": "display_data"
    }
   ],
   "source": [
    "# Create data frame with label encoding for tree models\n",
    "churn_label = churn.copy() # copy dataframe into a dataframe for label encoding\n",
    "\n",
    "encoder = OrdinalEncoder() # initiate encoder\n",
    "\n",
    "churn_label[['gender', 'geography']] = encoder.fit_transform(churn_label[['gender', 'geography']]) # transform gender and geography to label encoding\n",
    "\n",
    "display(churn_label.head())"
   ]
  },
  {
   "attachments": {},
   "cell_type": "markdown",
   "metadata": {},
   "source": [
    "Geography and gender have been label encoded and saved in churn_label to use for tree modeling."
   ]
  },
  {
   "cell_type": "code",
   "execution_count": 318,
   "metadata": {},
   "outputs": [
    {
     "data": {
      "text/html": [
       "<div>\n",
       "<style scoped>\n",
       "    .dataframe tbody tr th:only-of-type {\n",
       "        vertical-align: middle;\n",
       "    }\n",
       "\n",
       "    .dataframe tbody tr th {\n",
       "        vertical-align: top;\n",
       "    }\n",
       "\n",
       "    .dataframe thead th {\n",
       "        text-align: right;\n",
       "    }\n",
       "</style>\n",
       "<table border=\"1\" class=\"dataframe\">\n",
       "  <thead>\n",
       "    <tr style=\"text-align: right;\">\n",
       "      <th></th>\n",
       "      <th>row_number</th>\n",
       "      <th>customer_id</th>\n",
       "      <th>surname</th>\n",
       "      <th>credit_score</th>\n",
       "      <th>age</th>\n",
       "      <th>tenure</th>\n",
       "      <th>balance</th>\n",
       "      <th>num_of_products</th>\n",
       "      <th>has_cr_card</th>\n",
       "      <th>is_active_member</th>\n",
       "      <th>estimated_salary</th>\n",
       "      <th>exited</th>\n",
       "      <th>geography_Germany</th>\n",
       "      <th>geography_Spain</th>\n",
       "      <th>gender_Male</th>\n",
       "    </tr>\n",
       "  </thead>\n",
       "  <tbody>\n",
       "    <tr>\n",
       "      <th>0</th>\n",
       "      <td>1</td>\n",
       "      <td>15634602</td>\n",
       "      <td>Hargrave</td>\n",
       "      <td>619</td>\n",
       "      <td>42</td>\n",
       "      <td>2.0</td>\n",
       "      <td>0.00</td>\n",
       "      <td>1</td>\n",
       "      <td>1</td>\n",
       "      <td>1</td>\n",
       "      <td>101348.88</td>\n",
       "      <td>1</td>\n",
       "      <td>0</td>\n",
       "      <td>0</td>\n",
       "      <td>0</td>\n",
       "    </tr>\n",
       "    <tr>\n",
       "      <th>1</th>\n",
       "      <td>2</td>\n",
       "      <td>15647311</td>\n",
       "      <td>Hill</td>\n",
       "      <td>608</td>\n",
       "      <td>41</td>\n",
       "      <td>1.0</td>\n",
       "      <td>83807.86</td>\n",
       "      <td>1</td>\n",
       "      <td>0</td>\n",
       "      <td>1</td>\n",
       "      <td>112542.58</td>\n",
       "      <td>0</td>\n",
       "      <td>0</td>\n",
       "      <td>1</td>\n",
       "      <td>0</td>\n",
       "    </tr>\n",
       "    <tr>\n",
       "      <th>2</th>\n",
       "      <td>3</td>\n",
       "      <td>15619304</td>\n",
       "      <td>Onio</td>\n",
       "      <td>502</td>\n",
       "      <td>42</td>\n",
       "      <td>8.0</td>\n",
       "      <td>159660.80</td>\n",
       "      <td>3</td>\n",
       "      <td>1</td>\n",
       "      <td>0</td>\n",
       "      <td>113931.57</td>\n",
       "      <td>1</td>\n",
       "      <td>0</td>\n",
       "      <td>0</td>\n",
       "      <td>0</td>\n",
       "    </tr>\n",
       "    <tr>\n",
       "      <th>3</th>\n",
       "      <td>4</td>\n",
       "      <td>15701354</td>\n",
       "      <td>Boni</td>\n",
       "      <td>699</td>\n",
       "      <td>39</td>\n",
       "      <td>1.0</td>\n",
       "      <td>0.00</td>\n",
       "      <td>2</td>\n",
       "      <td>0</td>\n",
       "      <td>0</td>\n",
       "      <td>93826.63</td>\n",
       "      <td>0</td>\n",
       "      <td>0</td>\n",
       "      <td>0</td>\n",
       "      <td>0</td>\n",
       "    </tr>\n",
       "    <tr>\n",
       "      <th>4</th>\n",
       "      <td>5</td>\n",
       "      <td>15737888</td>\n",
       "      <td>Mitchell</td>\n",
       "      <td>850</td>\n",
       "      <td>43</td>\n",
       "      <td>2.0</td>\n",
       "      <td>125510.82</td>\n",
       "      <td>1</td>\n",
       "      <td>1</td>\n",
       "      <td>1</td>\n",
       "      <td>79084.10</td>\n",
       "      <td>0</td>\n",
       "      <td>0</td>\n",
       "      <td>1</td>\n",
       "      <td>0</td>\n",
       "    </tr>\n",
       "  </tbody>\n",
       "</table>\n",
       "</div>"
      ],
      "text/plain": [
       "   row_number  customer_id   surname  credit_score  age  tenure    balance  \\\n",
       "0           1     15634602  Hargrave           619   42     2.0       0.00   \n",
       "1           2     15647311      Hill           608   41     1.0   83807.86   \n",
       "2           3     15619304      Onio           502   42     8.0  159660.80   \n",
       "3           4     15701354      Boni           699   39     1.0       0.00   \n",
       "4           5     15737888  Mitchell           850   43     2.0  125510.82   \n",
       "\n",
       "   num_of_products  has_cr_card  is_active_member  estimated_salary  exited  \\\n",
       "0                1            1                 1         101348.88       1   \n",
       "1                1            0                 1         112542.58       0   \n",
       "2                3            1                 0         113931.57       1   \n",
       "3                2            0                 0          93826.63       0   \n",
       "4                1            1                 1          79084.10       0   \n",
       "\n",
       "   geography_Germany  geography_Spain  gender_Male  \n",
       "0                  0                0            0  \n",
       "1                  0                1            0  \n",
       "2                  0                0            0  \n",
       "3                  0                0            0  \n",
       "4                  0                1            0  "
      ]
     },
     "metadata": {},
     "output_type": "display_data"
    }
   ],
   "source": [
    "# Create dataframe with one hot encoded variables for logistic regression\n",
    "churn_ohe = pd.get_dummies(churn, columns=['geography', 'gender'], drop_first=True)\n",
    "\n",
    "display(churn_ohe.head())"
   ]
  },
  {
   "attachments": {},
   "cell_type": "markdown",
   "metadata": {},
   "source": [
    "Geography and gender have been One Hot Encoded and saved in churn_ohe to use for logistic regression models."
   ]
  },
  {
   "attachments": {},
   "cell_type": "markdown",
   "metadata": {},
   "source": [
    "### Data Preparation Conclusion\n",
    "\n",
    "Variable names are converted to snake case, data types are correct, missing values in tenure have been imputed with the median of tenure, and there are no concerns about duplication in the dataframe. Two new dataframes have been created, one with Label Encoding for tree models and the second with One Hot Encoding for Logistic Regression models. The data is clean, prepared, and ready for analysis."
   ]
  },
  {
   "attachments": {},
   "cell_type": "markdown",
   "metadata": {},
   "source": [
    "## Train Models with Imbalance\n",
    "\n",
    " In this section, the balance of classes is inspected, and the data are used to fit multiple Machine Learnng models to predict the imbalanced class data. Hyperparameters are tuned for Decision Tree Classifier and Random Foreset Classifier and the threshold is adjusted for Logistic Regression with the purpose of maximizing the F1 score while the classes are imbalanced. For Decision Tree Classification and Random Forest Classification, categorical features are label encoded and continuous variables are left in the scale of the original data. For Logistic Regression, categorical features are encoded with One Hot Encoding and continuous features are scaled. "
   ]
  },
  {
   "attachments": {},
   "cell_type": "markdown",
   "metadata": {},
   "source": [
    "### Inspect Balance of Classes"
   ]
  },
  {
   "cell_type": "code",
   "execution_count": 248,
   "metadata": {},
   "outputs": [
    {
     "name": "stdout",
     "output_type": "stream",
     "text": [
      "Percent of each class in the target variable:\n"
     ]
    },
    {
     "data": {
      "text/plain": [
       "0    79.63\n",
       "1    20.37\n",
       "Name: exited, dtype: float64"
      ]
     },
     "metadata": {},
     "output_type": "display_data"
    }
   ],
   "source": [
    "# Check balance of classes\n",
    "class_percentages = (churn['exited'].value_counts().reset_index(drop=True)/len(churn['exited']))*100\n",
    "\n",
    "print('Percent of each class in the target variable:')\n",
    "display(class_percentages)"
   ]
  },
  {
   "attachments": {},
   "cell_type": "markdown",
   "metadata": {},
   "source": [
    "The percent of customers who churned is much lower than the pecent of customers who did not churn. This would be considered an instance of imbalanced classification."
   ]
  },
  {
   "attachments": {},
   "cell_type": "markdown",
   "metadata": {},
   "source": [
    "### Imbalanced Classification Decision Tree and Classification Random Forest"
   ]
  },
  {
   "attachments": {},
   "cell_type": "markdown",
   "metadata": {},
   "source": [
    "#### Split Tree dataframe into train, validate, and test"
   ]
  },
  {
   "cell_type": "code",
   "execution_count": 250,
   "metadata": {},
   "outputs": [
    {
     "name": "stdout",
     "output_type": "stream",
     "text": [
      "Features Training: (6000, 10)\n",
      "Features Validation: (2000, 10)\n",
      "Features Test: (2000, 10)\n",
      "\n",
      "Target Training: (6000,)\n",
      "Target Validation: (2000,)\n",
      "Target Test: (2000,)\n"
     ]
    }
   ],
   "source": [
    "# Split data into train (60%), validate (20%), and test (20%)\n",
    "\n",
    "# Define features and target\n",
    "features_tree = churn_label.drop(['row_number', 'customer_id', 'surname', 'exited'], axis=1)                    \n",
    "target_tree = churn_label['exited']\n",
    "\n",
    "# Split off test set (20%)\n",
    "features_remaining_tree, features_test_tree, target_remaining_tree, target_test_tree = train_test_split(\n",
    "    features_tree, target_tree, test_size=0.2, random_state=12345)\n",
    "\n",
    "# Split remaining into training (60%) and validation (20%)\n",
    "features_train_tree, features_valid_tree, target_train_tree, target_valid_tree = train_test_split(\n",
    "    features_remaining_tree, target_remaining_tree, test_size=0.25, random_state=12345)\n",
    "\n",
    "# Check shape of training, validation, and test\n",
    "print(f'Features Training: {features_train_tree.shape}')\n",
    "print(f'Features Validation: {features_valid_tree.shape}')\n",
    "print(f'Features Test: {features_test_tree.shape}')\n",
    "print()\n",
    "print(f'Target Training: {target_train_tree.shape}')\n",
    "print(f'Target Validation: {target_valid_tree.shape}')\n",
    "print(f'Target Test: {target_test_tree.shape}')"
   ]
  },
  {
   "attachments": {},
   "cell_type": "markdown",
   "metadata": {},
   "source": [
    "The label encoded dataset has been split into training (60%), validate (20%), and test (20%)."
   ]
  },
  {
   "attachments": {},
   "cell_type": "markdown",
   "metadata": {},
   "source": [
    "#### Fit Decision Tree Classifier "
   ]
  },
  {
   "cell_type": "code",
   "execution_count": 251,
   "metadata": {},
   "outputs": [
    {
     "name": "stdout",
     "output_type": "stream",
     "text": [
      "Decision Tree Classifier Imbalanced Classes\n",
      "Maximum F1 (depth=7) = 0.52\n"
     ]
    }
   ],
   "source": [
    "# Tune hyperparameters to maximize F1\n",
    "best_tree_imbal = None\n",
    "best_depth_tree_imbal = 0\n",
    "best_f1_tree_imbal = 0\n",
    "\n",
    "for i in range(1, 10):\n",
    "    tree_imbal = DecisionTreeClassifier(max_depth=i, random_state=12345)\n",
    "    tree_imbal.fit(features_train_tree, target_train_tree)\n",
    "    predicted_valid_tree = tree_imbal.predict(features_valid_tree)\n",
    "    f1_tree = f1_score(target_valid_tree, predicted_valid_tree)\n",
    "    if f1_tree > best_f1_tree_imbal:\n",
    "        best_tree_imbal = tree_imbal\n",
    "        best_depth_tree_imbal = i\n",
    "        best_f1_tree_imbal = f1_tree\n",
    "        \n",
    "print('Decision Tree Classifier Imbalanced Classes')\n",
    "print(f'Maximum F1 (depth={best_depth_tree_imbal}) = {best_f1_tree_imbal:.2f}')\n",
    "    "
   ]
  },
  {
   "attachments": {},
   "cell_type": "markdown",
   "metadata": {},
   "source": [
    "The Decision Tree Classifier with imbalanced classes achieved a maximim F1 of 0.52 at a tree depth of 7. This is a low score, signifying the model has a high number of false positives."
   ]
  },
  {
   "attachments": {},
   "cell_type": "markdown",
   "metadata": {},
   "source": [
    "#### Fit Random Forest Classifier "
   ]
  },
  {
   "cell_type": "code",
   "execution_count": 266,
   "metadata": {},
   "outputs": [],
   "source": [
    "# Tune hyperparameters to maximize F1\n",
    "best_forest_imbal = None\n",
    "best_depth_forest_imbal = 0\n",
    "best_estimators_forest_imbal = 0\n",
    "best_f1_forest_imbal = 0\n",
    "\n",
    "for i in range(1, 10):\n",
    "    for j in range(10, 50, 10):\n",
    "        forest_imbal = RandomForestClassifier(max_depth=i, n_estimators=j, random_state=12345)\n",
    "        forest_imbal.fit(features_train_tree, target_train_tree)\n",
    "        predicted_valid_forest = forest_imbal.predict(features_valid_tree)\n",
    "        f1_forest = f1_score(target_valid_tree, predicted_valid_forest)\n",
    "        if f1_forest > best_f1_forest_imbal:\n",
    "            best_forest_imbal = forest_imbal\n",
    "            best_depth_forest_imbal = i\n",
    "            best_estimators_forest_imbal = j\n",
    "            best_f1_forest_imbal = f1_forest"
   ]
  },
  {
   "cell_type": "code",
   "execution_count": 267,
   "metadata": {},
   "outputs": [
    {
     "name": "stdout",
     "output_type": "stream",
     "text": [
      "Random Forest Classifier Imbalanced Classes\n",
      "Maximum F1 (depth=9, n_estimators=20) = 0.54\n"
     ]
    }
   ],
   "source": [
    "# Print results\n",
    "print('Random Forest Classifier Imbalanced Classes')\n",
    "print(f'Maximum F1 (depth={best_depth_forest_imbal}, n_estimators={best_estimators_forest_imbal}) = {best_f1_forest_imbal:.2f}')  "
   ]
  },
  {
   "attachments": {},
   "cell_type": "markdown",
   "metadata": {},
   "source": [
    "The Random Forest Classifier with imbalanced classes achieved a maximum F1 of 0.54 at a depth of 9 with 20 trees. This is only slightly better than the Decision Tree Classifier with a depth of 7. It is still a low F1 score, representing a model with many false positives. "
   ]
  },
  {
   "attachments": {},
   "cell_type": "markdown",
   "metadata": {},
   "source": [
    "### Imbalanced Logistic Regression "
   ]
  },
  {
   "attachments": {},
   "cell_type": "markdown",
   "metadata": {},
   "source": [
    "#### Split Logistic Regression dataframe into train, validate, and test"
   ]
  },
  {
   "cell_type": "code",
   "execution_count": 255,
   "metadata": {},
   "outputs": [
    {
     "name": "stdout",
     "output_type": "stream",
     "text": [
      "Features Training: (6000, 11)\n",
      "Features Validation: (2000, 11)\n",
      "Features Test: (2000, 11)\n",
      "\n",
      "Target Training: (6000,)\n",
      "Target Validation: (2000,)\n",
      "Target Test: (2000,)\n"
     ]
    }
   ],
   "source": [
    "# Split data into train (60%), validate (20%), and test (20%)\n",
    "\n",
    "# Define features and target\n",
    "features_logreg = churn_ohe.drop(['row_number', 'customer_id', 'surname', 'exited'], axis=1)                    \n",
    "target_logreg = churn_ohe['exited']\n",
    "\n",
    "# Split off test set (20%)\n",
    "features_remaining_logreg, features_test_logreg, target_remaining_logreg, target_test_logreg = train_test_split(\n",
    "    features_logreg, target_logreg, test_size=0.2, random_state=12345)\n",
    "\n",
    "# Split remaining into training (60%) and validation (20%)\n",
    "features_train_logreg, features_valid_logreg, target_train_logreg, target_valid_logreg = train_test_split(\n",
    "    features_remaining_logreg, target_remaining_logreg, test_size=0.25, random_state=12345)\n",
    "\n",
    "# Check shape of training, validation, and test\n",
    "print(f'Features Training: {features_train_logreg.shape}')\n",
    "print(f'Features Validation: {features_valid_logreg.shape}')\n",
    "print(f'Features Test: {features_test_logreg.shape}')\n",
    "print()\n",
    "print(f'Target Training: {target_train_logreg.shape}')\n",
    "print(f'Target Validation: {target_valid_logreg.shape}')\n",
    "print(f'Target Test: {target_test_logreg.shape}')"
   ]
  },
  {
   "attachments": {},
   "cell_type": "markdown",
   "metadata": {},
   "source": [
    "The One Hot Encoded dataset has been split into training (60%), validation (20%), and test (20%)."
   ]
  },
  {
   "attachments": {},
   "cell_type": "markdown",
   "metadata": {},
   "source": [
    "#### Scale numeric features"
   ]
  },
  {
   "cell_type": "code",
   "execution_count": 256,
   "metadata": {},
   "outputs": [
    {
     "name": "stdout",
     "output_type": "stream",
     "text": [
      "Logistic Regression features train:\n"
     ]
    },
    {
     "data": {
      "text/html": [
       "<div>\n",
       "<style scoped>\n",
       "    .dataframe tbody tr th:only-of-type {\n",
       "        vertical-align: middle;\n",
       "    }\n",
       "\n",
       "    .dataframe tbody tr th {\n",
       "        vertical-align: top;\n",
       "    }\n",
       "\n",
       "    .dataframe thead th {\n",
       "        text-align: right;\n",
       "    }\n",
       "</style>\n",
       "<table border=\"1\" class=\"dataframe\">\n",
       "  <thead>\n",
       "    <tr style=\"text-align: right;\">\n",
       "      <th></th>\n",
       "      <th>credit_score</th>\n",
       "      <th>age</th>\n",
       "      <th>tenure</th>\n",
       "      <th>balance</th>\n",
       "      <th>num_of_products</th>\n",
       "      <th>has_cr_card</th>\n",
       "      <th>is_active_member</th>\n",
       "      <th>estimated_salary</th>\n",
       "      <th>geography_Germany</th>\n",
       "      <th>geography_Spain</th>\n",
       "      <th>gender_Male</th>\n",
       "    </tr>\n",
       "  </thead>\n",
       "  <tbody>\n",
       "    <tr>\n",
       "      <th>492</th>\n",
       "      <td>-0.134048</td>\n",
       "      <td>-0.078068</td>\n",
       "      <td>-0.369113</td>\n",
       "      <td>0.076163</td>\n",
       "      <td>0.816929</td>\n",
       "      <td>0</td>\n",
       "      <td>1</td>\n",
       "      <td>0.331571</td>\n",
       "      <td>0</td>\n",
       "      <td>0</td>\n",
       "      <td>0</td>\n",
       "    </tr>\n",
       "    <tr>\n",
       "      <th>6655</th>\n",
       "      <td>-1.010798</td>\n",
       "      <td>0.494555</td>\n",
       "      <td>-0.007415</td>\n",
       "      <td>0.136391</td>\n",
       "      <td>-0.896909</td>\n",
       "      <td>1</td>\n",
       "      <td>1</td>\n",
       "      <td>-0.727858</td>\n",
       "      <td>0</td>\n",
       "      <td>0</td>\n",
       "      <td>1</td>\n",
       "    </tr>\n",
       "    <tr>\n",
       "      <th>4287</th>\n",
       "      <td>0.639554</td>\n",
       "      <td>1.353490</td>\n",
       "      <td>-1.454209</td>\n",
       "      <td>0.358435</td>\n",
       "      <td>-0.896909</td>\n",
       "      <td>1</td>\n",
       "      <td>1</td>\n",
       "      <td>-0.477006</td>\n",
       "      <td>1</td>\n",
       "      <td>0</td>\n",
       "      <td>1</td>\n",
       "    </tr>\n",
       "    <tr>\n",
       "      <th>42</th>\n",
       "      <td>-0.990168</td>\n",
       "      <td>2.116987</td>\n",
       "      <td>-1.092511</td>\n",
       "      <td>0.651725</td>\n",
       "      <td>-0.896909</td>\n",
       "      <td>1</td>\n",
       "      <td>1</td>\n",
       "      <td>-0.100232</td>\n",
       "      <td>0</td>\n",
       "      <td>0</td>\n",
       "      <td>0</td>\n",
       "    </tr>\n",
       "    <tr>\n",
       "      <th>8178</th>\n",
       "      <td>0.567351</td>\n",
       "      <td>0.685430</td>\n",
       "      <td>0.715982</td>\n",
       "      <td>0.813110</td>\n",
       "      <td>0.816929</td>\n",
       "      <td>1</td>\n",
       "      <td>1</td>\n",
       "      <td>0.801922</td>\n",
       "      <td>0</td>\n",
       "      <td>0</td>\n",
       "      <td>0</td>\n",
       "    </tr>\n",
       "  </tbody>\n",
       "</table>\n",
       "</div>"
      ],
      "text/plain": [
       "      credit_score       age    tenure   balance  num_of_products  \\\n",
       "492      -0.134048 -0.078068 -0.369113  0.076163         0.816929   \n",
       "6655     -1.010798  0.494555 -0.007415  0.136391        -0.896909   \n",
       "4287      0.639554  1.353490 -1.454209  0.358435        -0.896909   \n",
       "42       -0.990168  2.116987 -1.092511  0.651725        -0.896909   \n",
       "8178      0.567351  0.685430  0.715982  0.813110         0.816929   \n",
       "\n",
       "      has_cr_card  is_active_member  estimated_salary  geography_Germany  \\\n",
       "492             0                 1          0.331571                  0   \n",
       "6655            1                 1         -0.727858                  0   \n",
       "4287            1                 1         -0.477006                  1   \n",
       "42              1                 1         -0.100232                  0   \n",
       "8178            1                 1          0.801922                  0   \n",
       "\n",
       "      geography_Spain  gender_Male  \n",
       "492                 0            0  \n",
       "6655                0            1  \n",
       "4287                0            1  \n",
       "42                  0            0  \n",
       "8178                0            0  "
      ]
     },
     "metadata": {},
     "output_type": "display_data"
    },
    {
     "name": "stdout",
     "output_type": "stream",
     "text": [
      "\n",
      "Logistic Regression features valid:\n"
     ]
    },
    {
     "data": {
      "text/html": [
       "<div>\n",
       "<style scoped>\n",
       "    .dataframe tbody tr th:only-of-type {\n",
       "        vertical-align: middle;\n",
       "    }\n",
       "\n",
       "    .dataframe tbody tr th {\n",
       "        vertical-align: top;\n",
       "    }\n",
       "\n",
       "    .dataframe thead th {\n",
       "        text-align: right;\n",
       "    }\n",
       "</style>\n",
       "<table border=\"1\" class=\"dataframe\">\n",
       "  <thead>\n",
       "    <tr style=\"text-align: right;\">\n",
       "      <th></th>\n",
       "      <th>credit_score</th>\n",
       "      <th>age</th>\n",
       "      <th>tenure</th>\n",
       "      <th>balance</th>\n",
       "      <th>num_of_products</th>\n",
       "      <th>has_cr_card</th>\n",
       "      <th>is_active_member</th>\n",
       "      <th>estimated_salary</th>\n",
       "      <th>geography_Germany</th>\n",
       "      <th>geography_Spain</th>\n",
       "      <th>gender_Male</th>\n",
       "    </tr>\n",
       "  </thead>\n",
       "  <tbody>\n",
       "    <tr>\n",
       "      <th>2358</th>\n",
       "      <td>0.175393</td>\n",
       "      <td>0.399118</td>\n",
       "      <td>-1.454209</td>\n",
       "      <td>1.385698</td>\n",
       "      <td>-0.896909</td>\n",
       "      <td>0</td>\n",
       "      <td>1</td>\n",
       "      <td>-1.466761</td>\n",
       "      <td>0</td>\n",
       "      <td>0</td>\n",
       "      <td>1</td>\n",
       "    </tr>\n",
       "    <tr>\n",
       "      <th>8463</th>\n",
       "      <td>-1.299609</td>\n",
       "      <td>0.971741</td>\n",
       "      <td>-1.092511</td>\n",
       "      <td>-1.232442</td>\n",
       "      <td>-0.896909</td>\n",
       "      <td>1</td>\n",
       "      <td>0</td>\n",
       "      <td>0.254415</td>\n",
       "      <td>0</td>\n",
       "      <td>1</td>\n",
       "      <td>1</td>\n",
       "    </tr>\n",
       "    <tr>\n",
       "      <th>163</th>\n",
       "      <td>0.711757</td>\n",
       "      <td>-0.268942</td>\n",
       "      <td>-1.092511</td>\n",
       "      <td>-1.232442</td>\n",
       "      <td>0.816929</td>\n",
       "      <td>1</td>\n",
       "      <td>1</td>\n",
       "      <td>0.122863</td>\n",
       "      <td>0</td>\n",
       "      <td>1</td>\n",
       "      <td>0</td>\n",
       "    </tr>\n",
       "    <tr>\n",
       "      <th>3074</th>\n",
       "      <td>-0.391916</td>\n",
       "      <td>0.494555</td>\n",
       "      <td>0.354284</td>\n",
       "      <td>0.672529</td>\n",
       "      <td>-0.896909</td>\n",
       "      <td>1</td>\n",
       "      <td>0</td>\n",
       "      <td>0.585847</td>\n",
       "      <td>1</td>\n",
       "      <td>0</td>\n",
       "      <td>0</td>\n",
       "    </tr>\n",
       "    <tr>\n",
       "      <th>5989</th>\n",
       "      <td>0.165078</td>\n",
       "      <td>1.353490</td>\n",
       "      <td>1.801078</td>\n",
       "      <td>0.536522</td>\n",
       "      <td>-0.896909</td>\n",
       "      <td>0</td>\n",
       "      <td>0</td>\n",
       "      <td>1.462457</td>\n",
       "      <td>0</td>\n",
       "      <td>0</td>\n",
       "      <td>0</td>\n",
       "    </tr>\n",
       "  </tbody>\n",
       "</table>\n",
       "</div>"
      ],
      "text/plain": [
       "      credit_score       age    tenure   balance  num_of_products  \\\n",
       "2358      0.175393  0.399118 -1.454209  1.385698        -0.896909   \n",
       "8463     -1.299609  0.971741 -1.092511 -1.232442        -0.896909   \n",
       "163       0.711757 -0.268942 -1.092511 -1.232442         0.816929   \n",
       "3074     -0.391916  0.494555  0.354284  0.672529        -0.896909   \n",
       "5989      0.165078  1.353490  1.801078  0.536522        -0.896909   \n",
       "\n",
       "      has_cr_card  is_active_member  estimated_salary  geography_Germany  \\\n",
       "2358            0                 1         -1.466761                  0   \n",
       "8463            1                 0          0.254415                  0   \n",
       "163             1                 1          0.122863                  0   \n",
       "3074            1                 0          0.585847                  1   \n",
       "5989            0                 0          1.462457                  0   \n",
       "\n",
       "      geography_Spain  gender_Male  \n",
       "2358                0            1  \n",
       "8463                1            1  \n",
       "163                 1            0  \n",
       "3074                0            0  \n",
       "5989                0            0  "
      ]
     },
     "metadata": {},
     "output_type": "display_data"
    }
   ],
   "source": [
    "# Scale numeric features\n",
    "numeric = ['credit_score', 'age', 'tenure', 'balance', 'num_of_products', 'estimated_salary'] # numeric features\n",
    "\n",
    "scaler = StandardScaler()\n",
    "scaler.fit(features_train_logreg[numeric]) # fit scaling\n",
    "\n",
    "features_train_logreg[numeric] = scaler.transform(features_train_logreg[numeric]) # transform variables\n",
    "features_valid_logreg[numeric] = scaler.transform(features_valid_logreg[numeric])\n",
    "\n",
    "print('Logistic Regression features train:')\n",
    "display(features_train_logreg.head())\n",
    "print()\n",
    "print('Logistic Regression features valid:')\n",
    "display(features_valid_logreg.head())"
   ]
  },
  {
   "attachments": {},
   "cell_type": "markdown",
   "metadata": {},
   "source": [
    "Categorical variables have been One Hot Encoded, numeric variables have been scaled, and the data is split into training, validation, and test. The data is ready to fit and tune a logistic regression."
   ]
  },
  {
   "attachments": {},
   "cell_type": "markdown",
   "metadata": {},
   "source": [
    "#### Fit Logistic Regression"
   ]
  },
  {
   "cell_type": "code",
   "execution_count": 260,
   "metadata": {},
   "outputs": [
    {
     "name": "stdout",
     "output_type": "stream",
     "text": [
      "Logistic Regression Imbalanced Classes\n",
      "F1 (threshold=0.32)= 0.49\n"
     ]
    }
   ],
   "source": [
    "# Train logistic regression\n",
    "logreg_imbal = LogisticRegression(random_state=12345, solver='liblinear') # initiate model\n",
    "logreg_imbal.fit(features_train_logreg, target_train_logreg) # fit model\n",
    "\n",
    "probabilities_valid_imbal = logreg_imbal.predict_proba(features_valid_logreg)\n",
    "probabilities_one_valid = probabilities_valid_imbal[:, 1]\n",
    "\n",
    "best_threshold_logreg_imbal = 0\n",
    "best_f1_logreg_imbal = 0\n",
    "\n",
    "for threshold in np.arange(0, .9, 0.02):\n",
    "    predicted_valid_logreg_imbal = probabilities_one_valid > threshold\n",
    "    f1_logreg_imbal = f1_score(target_valid_logreg, predicted_valid_logreg_imbal) # F1 score for validate set\n",
    "    if f1_logreg_imbal > best_f1_logreg_imbal:\n",
    "        best_threshold_logreg_imbal = threshold\n",
    "        best_f1_logreg_imbal = f1_logreg_imbal\n",
    "\n",
    "print('Logistic Regression Imbalanced Classes')\n",
    "print(f'Maximum F1 (threshold={best_threshold_logreg_imbal})= {best_f1_logreg_imbal:.2f}')"
   ]
  },
  {
   "attachments": {},
   "cell_type": "markdown",
   "metadata": {},
   "source": [
    "The the Logistic Regression model achieved a maximum F1 score of 0.49 at a threshold of 0.32 on the validation set. This is again a low F1 score and is lower than both the Decision Tree and Random Forest models. The Logistic Regression had a high number of false positives on the validation set, using the imbalanced data, and is the worst performing of the three. "
   ]
  },
  {
   "attachments": {},
   "cell_type": "markdown",
   "metadata": {},
   "source": [
    "### Imbalanced Model Training Conclusion\n",
    "\n",
    "Using the imbalanced data to fit and tune Machine Learning models was largely unsuccessful. All the models achieved F1 scores around 0.5, meaning they had high false postive rates on the validation set. The Random Forest Classifier with a depth of 9 and 20 trees was the best performing model but still had high prediction inaccuracy (F1 = 0.54). This was followed by the Decision Tree Classifier with a depth of 7 (F1 = 0.52) and the Logistic Regression with a threshold of 0.32 (F1 = 0.49). All of these models leave much to be desired for prediction performance. "
   ]
  },
  {
   "attachments": {},
   "cell_type": "markdown",
   "metadata": {},
   "source": [
    "## Improve the Quality of the Model by Addressing Class Imbalance\n",
    "\n",
    "In this section, two class balancing strategies are implemented to raise the F1 score on the validation class. The first is class weight adjustment, where the class weight is increased for the minority class. The second is upsampling, where the minority class is resampled to more closely match the frequency of the majority class. All three models are re-fit and cycled through the same hyperparameter tuning and threshold adjustment for each class balancing strategy. The purpose is to maximize the F1 score."
   ]
  },
  {
   "attachments": {},
   "cell_type": "markdown",
   "metadata": {},
   "source": [
    "### Class Weight Adjustment\n",
    "\n",
    "Each model is initiated with the class_weight='balanced' parameter and the models are re-tuned to maximize F1 on the validation set."
   ]
  },
  {
   "cell_type": "code",
   "execution_count": 262,
   "metadata": {},
   "outputs": [
    {
     "name": "stdout",
     "output_type": "stream",
     "text": [
      "Decision Tree Classifier Imbalanced Classes\n",
      "Maximum F1 (depth=6) = 0.56\n"
     ]
    }
   ],
   "source": [
    "# Re-Fit Decision Tree Classifier with balanced weights\n",
    "best_tree_bal = None\n",
    "best_depth_tree_bal = 0\n",
    "best_f1_tree_bal = 0\n",
    "\n",
    "for i in range(1, 10):\n",
    "    tree_bal = DecisionTreeClassifier(max_depth=i, class_weight='balanced', random_state=12345) # balance weights\n",
    "    tree_bal.fit(features_train_tree, target_train_tree)\n",
    "    predicted_valid_tree = tree_bal.predict(features_valid_tree) # predicted class for the validate set\n",
    "    f1_tree = f1_score(target_valid_tree, predicted_valid_tree) # F1 score for the validate set\n",
    "    if f1_tree > best_f1_tree_bal:\n",
    "        best_tree_bal = tree_bal\n",
    "        best_depth_tree_bal = i\n",
    "        best_f1_tree_bal = f1_tree\n",
    "        \n",
    "print('Decision Tree Classifier Balanced Classes')\n",
    "print(f'Maximum F1 (depth={best_depth_tree_bal}) = {best_f1_tree_bal:.2f}')"
   ]
  },
  {
   "attachments": {},
   "cell_type": "markdown",
   "metadata": {},
   "source": [
    "After class weight adjustment, the Decision Tree Classifier achieved a maximum F1 of 0.56 with a tree depth of 6. This is still a moderately low F1 score, though an improvement over the Decision Tree Classifier with imbalanced classes."
   ]
  },
  {
   "cell_type": "code",
   "execution_count": 321,
   "metadata": {},
   "outputs": [],
   "source": [
    "# Re-fit the Classification Random Forest with balanced weights\n",
    "best_forest_bal = None\n",
    "best_depth_forest_bal = 0\n",
    "best_estimators_forest_bal = 0\n",
    "best_f1_forest_bal = 0\n",
    "\n",
    "for i in range(1, 20):\n",
    "    for j in range(10,100, 10):\n",
    "        forest_bal = RandomForestClassifier(max_depth=i, n_estimators=j, \n",
    "                                            class_weight='balanced', random_state=12345) # balance weights\n",
    "        forest_bal.fit(features_train_tree, target_train_tree)\n",
    "        predicted_valid_forest_bal = forest_bal.predict(features_valid_tree) # predicted class for the validate set\n",
    "        f1_forest = f1_score(target_valid_tree, predicted_valid_forest_bal) # F1 score for the validate set\n",
    "        if f1_forest > best_f1_forest_bal:\n",
    "            best_forest_bal = forest_bal\n",
    "            best_depth_forest_bal = i\n",
    "            best_estimators_forest_bal = j\n",
    "            best_f1_forest_bal = f1_forest"
   ]
  },
  {
   "cell_type": "code",
   "execution_count": 323,
   "metadata": {},
   "outputs": [
    {
     "name": "stdout",
     "output_type": "stream",
     "text": [
      "Random Forest Classifier Balanced Classes\n",
      "Maximum F1 (depth=11, n_estimators=50) = 0.59\n"
     ]
    }
   ],
   "source": [
    "# Print results\n",
    "print('Random Forest Classifier Balanced Classes')\n",
    "print(f'Maximum F1 (depth={best_depth_forest_bal}, n_estimators={best_estimators_forest_bal}) = {best_f1_forest_bal:.2f}')  "
   ]
  },
  {
   "attachments": {},
   "cell_type": "markdown",
   "metadata": {},
   "source": [
    "The Random Forest Classifier with balanced class weights achieved a maximum F1 of 0.58 with a tree depth of 11 and 50 trees. This is still only a moderately strong F1 score but is the highest F1 achieved this far."
   ]
  },
  {
   "cell_type": "code",
   "execution_count": 265,
   "metadata": {},
   "outputs": [
    {
     "name": "stdout",
     "output_type": "stream",
     "text": [
      "Logistic Regression Imbalanced Classes\n",
      "F1 (threshold=0.64)= 0.49\n"
     ]
    }
   ],
   "source": [
    "# Re-fit the Logistic Regression with balanced weights\n",
    "logreg_bal = LogisticRegression(random_state=12345, solver='liblinear', class_weight='balanced') # balance weights\n",
    "logreg_bal.fit(features_train_logreg, target_train_logreg) # fit model\n",
    "\n",
    "probabilities_valid_bal = logreg_bal.predict_proba(features_valid_logreg) # predicted probabilites valid set\n",
    "probabilities_one_valid = probabilities_valid_bal[:, 1]\n",
    "\n",
    "best_threshold_logreg_bal = 0\n",
    "best_f1_logreg_bal = 0\n",
    "\n",
    "for threshold in np.arange(0, .9, 0.02):\n",
    "    predicted_valid_logreg_bal = probabilities_one_valid > threshold\n",
    "    f1_logreg_bal = f1_score(target_valid_logreg, predicted_valid_logreg_bal) # F1 score for validate set\n",
    "    if f1_logreg_bal > best_f1_logreg_bal:\n",
    "        best_threshold_logreg_bal = threshold\n",
    "        best_f1_logreg_bal = f1_logreg_bal\n",
    "\n",
    "print('Logistic Regression Balanced Classes')\n",
    "print(f'Maximum F1 (threshold={best_threshold_logreg_bal})= {best_f1_logreg_bal:.2f}')"
   ]
  },
  {
   "attachments": {},
   "cell_type": "markdown",
   "metadata": {},
   "source": [
    "The Logistic Regression with balanced class weights achieved a maximum F1 score of 0.49 at a threshold of 0.64. This is still a low F1 and does not show any improvement over the model with imbalanced weights."
   ]
  },
  {
   "attachments": {},
   "cell_type": "markdown",
   "metadata": {},
   "source": [
    "### Upsampling\n",
    "\n",
    "Both tree and logistic regression dataframes are upsampled and models are re-fit and re-tuned with the upsampled data."
   ]
  },
  {
   "attachments": {},
   "cell_type": "markdown",
   "metadata": {},
   "source": [
    "#### Upsample Dataframes"
   ]
  },
  {
   "cell_type": "code",
   "execution_count": 271,
   "metadata": {},
   "outputs": [],
   "source": [
    "# Define upsampling function\n",
    "def upsample(features, target, repeat):\n",
    "    features_zeros = features[target == 0]\n",
    "    features_ones = features[target == 1]\n",
    "    target_zeros = target[target == 0]\n",
    "    target_ones = target[target == 1]\n",
    "    \n",
    "    # multiply features in class one by repeat value and combine with features in class zero\n",
    "    features_upsampled = pd.concat([features_zeros] + [features_ones]*repeat) \n",
    "    # multiply target in class one by repeat value and combine with target in class zero\n",
    "    target_upsampled = pd.concat([target_zeros] + [target_ones]*repeat) \n",
    "    \n",
    "    features_upsampled, target_upsampled = shuffle(\n",
    "        features_upsampled, target_upsampled, random_state=12345) # shuffle upsampled dataframe\n",
    "    \n",
    "    return features_upsampled, target_upsampled"
   ]
  },
  {
   "cell_type": "code",
   "execution_count": 310,
   "metadata": {},
   "outputs": [
    {
     "name": "stdout",
     "output_type": "stream",
     "text": [
      "Training Features Tree Upsampled: (9657, 10)\n",
      "Training Target Tree Upsampled: (9657,)\n",
      "\n",
      "Percent of each class in the upsampled target variable:\n"
     ]
    },
    {
     "data": {
      "text/plain": [
       "0    50.491871\n",
       "1    49.508129\n",
       "Name: percent, dtype: float64"
      ]
     },
     "metadata": {},
     "output_type": "display_data"
    }
   ],
   "source": [
    "# Upsample Tree Dataframe\n",
    "features_train_tree_upsamp, target_train_tree_upsamp = upsample(\n",
    "    features_train_tree, target_train_tree, 4\n",
    ") \n",
    "\n",
    "print(f'Training Features Tree Upsampled: {features_train_tree_upsamp.shape}')\n",
    "print(f'Training Target Tree Upsampled: {target_train_tree_upsamp.shape}')\n",
    "print()\n",
    "\n",
    "# Check balance of classes\n",
    "class_count_upsamp = target_train_tree_upsamp.value_counts().reset_index().rename(columns={'index':'exited', 'exited':'percent'})\n",
    "class_percentages_upsamp = (class_count_upsamp['percent']/len(target_train_tree_upsamp))*100\n",
    "\n",
    "print('Percent of each class in the upsampled target variable:')\n",
    "display(class_percentages_upsamp)"
   ]
  },
  {
   "cell_type": "code",
   "execution_count": 311,
   "metadata": {},
   "outputs": [
    {
     "name": "stdout",
     "output_type": "stream",
     "text": [
      "Training Features Tree Upsampled: (9657, 11)\n",
      "Training Target Tree Upsampled: (9657,)\n",
      "\n",
      "Percent of each class in the upsampled target variable:\n"
     ]
    },
    {
     "data": {
      "text/plain": [
       "0    50.491871\n",
       "1    49.508129\n",
       "Name: percent, dtype: float64"
      ]
     },
     "metadata": {},
     "output_type": "display_data"
    }
   ],
   "source": [
    "# Upsample Logistic Regression Dataframe\n",
    "features_train_logreg_upsamp, target_train_logreg_upsamp = upsample(\n",
    "    features_train_logreg, target_train_logreg, 4\n",
    ")\n",
    "\n",
    "print(f'Training Features Tree Upsampled: {features_train_logreg_upsamp.shape}')\n",
    "print(f'Training Target Tree Upsampled: {target_train_logreg_upsamp.shape}')\n",
    "print()\n",
    "\n",
    "# Check balance of classes\n",
    "class_count_logreg_upsamp = target_train_logreg_upsamp.value_counts().reset_index().rename(columns={'index':'exited', 'exited':'percent'})\n",
    "class_percentages_logreg_upsamp = (class_count_upsamp['percent']/len(target_train_logreg_upsamp))*100\n",
    "\n",
    "print('Percent of each class in the upsampled target variable:')\n",
    "display(class_percentages_logreg_upsamp)"
   ]
  },
  {
   "attachments": {},
   "cell_type": "markdown",
   "metadata": {},
   "source": [
    "After upsampling, the training dataframes have 9657 total rows. Of these, 50.5% did not churn and 49.5% did churn. These are approximately balanced classes."
   ]
  },
  {
   "attachments": {},
   "cell_type": "markdown",
   "metadata": {},
   "source": [
    "#### Re-Fit Models with Upsampled Data"
   ]
  },
  {
   "cell_type": "code",
   "execution_count": 313,
   "metadata": {},
   "outputs": [
    {
     "name": "stdout",
     "output_type": "stream",
     "text": [
      "Decision Tree Classifier Upsampled data\n",
      "Maximum F1 (depth=6) = 0.56\n"
     ]
    }
   ],
   "source": [
    "# Re-Fit Decision Tree Classifier with upsampled data\n",
    "best_tree_upsamp = None\n",
    "best_depth_tree_upsamp = 0\n",
    "best_f1_tree_upsamp = 0\n",
    "\n",
    "for i in range(1, 10):\n",
    "    tree_upsamp = DecisionTreeClassifier(max_depth=i, random_state=12345)\n",
    "    tree_upsamp.fit(features_train_tree_upsamp, target_train_tree_upsamp)\n",
    "    predicted_valid_tree_upsamp = tree_upsamp.predict(features_valid_tree)\n",
    "    f1_tree_upsamp = f1_score(target_valid_tree, predicted_valid_tree_upsamp)\n",
    "    if f1_tree_upsamp > best_f1_tree_upsamp:\n",
    "        best_tree_upsamp = tree_upsamp\n",
    "        best_depth_tree_upsamp = i\n",
    "        best_f1_tree_upsamp = f1_tree_upsamp\n",
    "        \n",
    "print('Decision Tree Classifier Upsampled data')\n",
    "print(f'Maximum F1 (depth={best_depth_tree_upsamp}) = {best_f1_tree_upsamp:.2f}')"
   ]
  },
  {
   "attachments": {},
   "cell_type": "markdown",
   "metadata": {},
   "source": [
    "After upsampling, the Decision Tree Classifier achieved a maximum F1 score of 0.56 with a depth of 6 on the validation set. This is an improvement over the imbalanced model but does not show improvement over the weighted class model."
   ]
  },
  {
   "cell_type": "code",
   "execution_count": 319,
   "metadata": {},
   "outputs": [],
   "source": [
    "# Re-fit the Classification Random Forest with upsampled data\n",
    "best_forest_upsamp = None\n",
    "best_depth_forest_upsamp = 0\n",
    "best_estimators_forest_upsamp = 0\n",
    "best_f1_forest_upsamp = 0\n",
    "\n",
    "for i in range(1, 20):\n",
    "    for j in range(10, 100, 10):\n",
    "        forest_upsamp = RandomForestClassifier(max_depth=i, n_estimators=j, random_state=12345)\n",
    "        forest_upsamp.fit(features_train_tree_upsamp, target_train_tree_upsamp)\n",
    "        predicted_valid_forest_upsamp = forest_upsamp.predict(features_valid_tree)\n",
    "        f1_forest_upsamp = f1_score(target_valid_tree, predicted_valid_forest_upsamp)\n",
    "        if f1_forest_upsamp > best_f1_forest_upsamp:\n",
    "            best_forest_upsamp = forest_upsamp\n",
    "            best_depth_forest_upsamp = i\n",
    "            best_estimators_forest_upsamp = j\n",
    "            best_f1_forest_upsamp = f1_forest_upsamp"
   ]
  },
  {
   "cell_type": "code",
   "execution_count": 320,
   "metadata": {},
   "outputs": [
    {
     "name": "stdout",
     "output_type": "stream",
     "text": [
      "Random Forest Classifier Upsampled\n",
      "Maximum F1 (depth=11, n_estimators=80) = 0.59\n"
     ]
    }
   ],
   "source": [
    "# Print results\n",
    "print('Random Forest Classifier Upsampled')\n",
    "print(f'Maximum F1 (depth={best_depth_forest_upsamp}, n_estimators={best_estimators_forest_upsamp}) = {best_f1_forest_upsamp:.2f}')  "
   ]
  },
  {
   "attachments": {},
   "cell_type": "markdown",
   "metadata": {},
   "source": [
    "After upsampling, the Random Forest Classifier was able to achieve a maximum F1 of 0.59 with a depth of 11 and 80 trees. While the F1 score is equal to the model with weighted data, the weighted model was able to achieve this score with 30 fewer trees. "
   ]
  },
  {
   "cell_type": "code",
   "execution_count": 316,
   "metadata": {},
   "outputs": [
    {
     "name": "stdout",
     "output_type": "stream",
     "text": [
      "Logistic Regression Balanced Classes\n",
      "Maximum F1 (threshold=0.64)= 0.49\n"
     ]
    }
   ],
   "source": [
    "# Re-fit the Logistic Regression with upsampled data\n",
    "logreg_upsamp = LogisticRegression(random_state=12345, solver='liblinear') # initiate model\n",
    "logreg_upsamp.fit(features_train_logreg_upsamp, target_train_logreg_upsamp) # fit model\n",
    "\n",
    "probabilities_valid_upsamp = logreg_upsamp.predict_proba(features_valid_logreg) # predicted probabilities\n",
    "probabilities_one_valid_upsamp = probabilities_valid_upsamp[:, 1]\n",
    "\n",
    "best_threshold_logreg_upsamp = 0\n",
    "best_f1_logreg_upsamp = 0\n",
    "\n",
    "for threshold in np.arange(0, .9, 0.02): # iterate over threshold values\n",
    "    predicted_valid_logreg_upsamp = probabilities_one_valid_upsamp > threshold\n",
    "    f1_logreg_upsamp = f1_score(target_valid_logreg, predicted_valid_logreg_upsamp) # F1 score for validate set\n",
    "    if f1_logreg_upsamp > best_f1_logreg_upsamp:\n",
    "        best_threshold_logreg_upsamp = threshold\n",
    "        best_f1_logreg_upsamp = f1_logreg_upsamp\n",
    "\n",
    "print('Logistic Regression Balanced Classes')\n",
    "print(f'Maximum F1 (threshold={best_threshold_logreg_upsamp})= {best_f1_logreg_upsamp:.2f}')\n"
   ]
  },
  {
   "attachments": {},
   "cell_type": "markdown",
   "metadata": {},
   "source": [
    "After upsampling, the Logistic Regression achieved a maximum F1 score of 0.49 with a threshold of 0.64 on the validation set. This is the lowest of the three models and shows no improvement over the logistic regression with imbalanced classes."
   ]
  },
  {
   "attachments": {},
   "cell_type": "markdown",
   "metadata": {},
   "source": [
    "### Class Balanced Model Conclusions\n",
    "\n",
    "Random forest classifier with weighted data."
   ]
  },
  {
   "attachments": {},
   "cell_type": "markdown",
   "metadata": {},
   "source": [
    "## Final Testing"
   ]
  },
  {
   "cell_type": "code",
   "execution_count": 335,
   "metadata": {},
   "outputs": [
    {
     "name": "stdout",
     "output_type": "stream",
     "text": [
      "Best Random Forest Classifier on Test Set:\n",
      "Test F1 score: 0.60\n",
      "Test ROC AUC: 0.74\n"
     ]
    }
   ],
   "source": [
    "# Test the model on the test set\n",
    "# Find predicted values for test set\n",
    "predicted_test = best_forest_bal.predict(features_test_tree)\n",
    "\n",
    "# Calculate F1 score\n",
    "f1_test= f1_score(target_test_tree, predicted_test)\n",
    "\n",
    "# Calculate roc auc score\n",
    "roc_auc_test = roc_auc_score(target_test_tree, predicted_test)\n",
    "\n",
    "print('Best Random Forest Classifier on Test Set:')\n",
    "print(f'Test F1 score: {f1_test:.2f}')\n",
    "print(f'Test ROC AUC: {roc_auc_test:.2f}')"
   ]
  },
  {
   "cell_type": "code",
   "execution_count": 337,
   "metadata": {},
   "outputs": [
    {
     "data": {
      "image/png": "[encoded data removed]",
      "text/plain": [
       "<Figure size 640x480 with 1 Axes>"
      ]
     },
     "metadata": {},
     "output_type": "display_data"
    }
   ],
   "source": [
    "# Plot auc roc curve\n",
    "probabilities_test = best_forest_bal.predict_proba(features_test_tree)\n",
    "probabilities_one_test = probabilities_test[:, 1]\n",
    "\n",
    "fpr, tpr, thresholds = roc_curve(target_test_tree, probabilities_one_test)\n",
    "\n",
    "plt.figure()\n",
    "plt.plot(fpr, tpr)\n",
    "\n",
    "plt.title('ROC-AUC Curve')\n",
    "plt.xlabel('False Positive Rate')\n",
    "plt.ylabel('True Positive Rate')\n",
    "\n",
    "plt.show()"
   ]
  },
  {
   "attachments": {},
   "cell_type": "markdown",
   "metadata": {},
   "source": [
    "### Final Testing Conclusion"
   ]
  },
  {
   "attachments": {},
   "cell_type": "markdown",
   "metadata": {},
   "source": [
    "## Conclusion and Business Application"
   ]
  }
 ],
 "metadata": {
  "kernelspec": {
   "display_name": "base",
   "language": "python",
   "name": "python3"
  },
  "language_info": {
   "codemirror_mode": {
    "name": "ipython",
    "version": 3
   },
   "file_extension": ".py",
   "mimetype": "text/x-python",
   "name": "python",
   "nbconvert_exporter": "python",
   "pygments_lexer": "ipython3",
   "version": "3.10.9"
  },
  "orig_nbformat": 4
 },
 "nbformat": 4,
 "nbformat_minor": 2
}
